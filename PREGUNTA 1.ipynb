{
 "cells": [
  {
   "cell_type": "code",
   "execution_count": 2,
   "id": "ecb01050-a1a0-44c7-a74b-6f6ce0aa2363",
   "metadata": {},
   "outputs": [],
   "source": [
    "def secant_method_optimized(f, x0, x1, tol=1e-6, max_iter=100):\n",
    "    x_prev = x0\n",
    "    x_curr = x1\n",
    "    iter_count = 0\n",
    "    f_prev = f(x_prev)\n",
    "    f_curr = f(x_curr)\n",
    "    func_calls = 2  # Initial function calls for f(x0) and f(x1)\n",
    "\n",
    "    while abs(f_curr) > tol and iter_count < max_iter:\n",
    "        # Calculate the next approximation\n",
    "        x_next = x_curr - f_curr * (x_curr - x_prev) / (f_curr - f_prev)\n",
    "        f_next = f(x_next)\n",
    "        func_calls += 1  # Increment function calls\n",
    "\n",
    "        # Update variables for the next iteration\n",
    "        x_prev, f_prev = x_curr, f_curr\n",
    "        x_curr, f_curr = x_next, f_next\n",
    "        iter_count += 1\n",
    "\n",
    "    return x_curr, iter_count, func_calls\n"
   ]
  },
  {
   "cell_type": "code",
   "execution_count": 3,
   "id": "c04eb97a-0c0f-4233-90fe-2a2270084917",
   "metadata": {},
   "outputs": [
    {
     "name": "stdout",
     "output_type": "stream",
     "text": [
      "Raíz: 2.769292, Iteraciones: 6, Llamadas a la función: 8\n"
     ]
    }
   ],
   "source": [
    "i = 0  # Contador de llamadas a la función\n",
    "\n",
    "def func(x):\n",
    "    global i\n",
    "    i += 1\n",
    "    return x**3 - 3 * x**2 + x - 1\n",
    "\n",
    "root, iterations, func_calls = secant_method_optimized(func, x0=2, x1=3)\n",
    "print(f\"Raíz: {root:.6f}, Iteraciones: {iterations}, Llamadas a la función: {func_calls}\")\n"
   ]
  },
  {
   "cell_type": "code",
   "execution_count": 4,
   "id": "9c6035af-c71b-438d-9686-b1cc7d78e28a",
   "metadata": {},
   "outputs": [
    {
     "name": "stdout",
     "output_type": "stream",
     "text": [
      "Raíz: 3.665191, Iteraciones: 5, Llamadas a la función: 7\n"
     ]
    }
   ],
   "source": [
    "i = 0  # Contador de llamadas a la función\n",
    "\n",
    "def func(x):\n",
    "    global i\n",
    "    i += 1\n",
    "    import math\n",
    "    return math.sin(x) + 0.5\n",
    "\n",
    "root, iterations, func_calls = secant_method_optimized(func, x0=2, x1=3)\n",
    "print(f\"Raíz: {root:.6f}, Iteraciones: {iterations}, Llamadas a la función: {func_calls}\")\n"
   ]
  },
  {
   "cell_type": "code",
   "execution_count": null,
   "id": "070ec1b2-2d3e-470a-8ecb-14dc0130d7cc",
   "metadata": {},
   "outputs": [],
   "source": []
  }
 ],
 "metadata": {
  "kernelspec": {
   "display_name": "Python 3 (ipykernel)",
   "language": "python",
   "name": "python3"
  },
  "language_info": {
   "codemirror_mode": {
    "name": "ipython",
    "version": 3
   },
   "file_extension": ".py",
   "mimetype": "text/x-python",
   "name": "python",
   "nbconvert_exporter": "python",
   "pygments_lexer": "ipython3",
   "version": "3.10.14"
  }
 },
 "nbformat": 4,
 "nbformat_minor": 5
}
